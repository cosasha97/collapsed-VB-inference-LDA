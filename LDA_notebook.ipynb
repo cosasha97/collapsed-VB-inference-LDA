{
  "nbformat": 4,
  "nbformat_minor": 0,
  "metadata": {
    "colab": {
      "name": "BayML_final.ipynb",
      "provenance": [],
      "collapsed_sections": [
        "Ovnl5oIgqx0Q",
        "fGQvUUf_sD5p",
        "4zJiNMoFon3w",
        "Jlngd7Hf62Fg",
        "QlvjK0nML6Nj",
        "jTZqxBJmbtAL"
      ],
      "toc_visible": true
    },
    "kernelspec": {
      "name": "python3",
      "display_name": "Python 3"
    },
    "language_info": {
      "name": "python"
    }
  },
  "cells": [
    {
      "cell_type": "markdown",
      "metadata": {
        "id": "L9IbU12jHHZt"
      },
      "source": [
        "Authors: COLLIN Sasha, MARTIN Paul\n",
        "\n",
        "The goal of this notebook is to show the reader how we generated the results in our final report, and how to call and use the various methods we coded."
      ]
    },
    {
      "cell_type": "markdown",
      "metadata": {
        "id": "ZaRCTiGrn0Xp"
      },
      "source": [
        "# Imports"
      ]
    },
    {
      "cell_type": "code",
      "metadata": {
        "colab": {
          "base_uri": "https://localhost:8080/"
        },
        "id": "NmVSX876nsvw",
        "outputId": "0c699510-1b84-4303-89dc-a756887cbbc7"
      },
      "source": [
        "!pip install --upgrade scipy"
      ],
      "execution_count": 75,
      "outputs": [
        {
          "output_type": "stream",
          "text": [
            "Requirement already up-to-date: scipy in /usr/local/lib/python3.7/dist-packages (1.6.1)\n",
            "Requirement already satisfied, skipping upgrade: numpy>=1.16.5 in /usr/local/lib/python3.7/dist-packages (from scipy) (1.19.5)\n"
          ],
          "name": "stdout"
        }
      ]
    },
    {
      "cell_type": "code",
      "metadata": {
        "colab": {
          "base_uri": "https://localhost:8080/"
        },
        "id": "nY7IOCVanFR9",
        "outputId": "3f5aa28f-2210-4345-e3ae-d515e35d3341"
      },
      "source": [
        "!git clone https://github.com/cosasha97/collapsed-VB-inference-LDA.git"
      ],
      "execution_count": 76,
      "outputs": [
        {
          "output_type": "stream",
          "text": [
            "Cloning into 'collapsed-VB-inference-LDA'...\n",
            "remote: Enumerating objects: 103, done.\u001b[K\n",
            "remote: Counting objects: 100% (103/103), done.\u001b[K\n",
            "remote: Compressing objects: 100% (97/97), done.\u001b[K\n",
            "remote: Total 103 (delta 41), reused 0 (delta 0), pack-reused 0\u001b[K\n",
            "Receiving objects: 100% (103/103), 1.44 MiB | 2.82 MiB/s, done.\n",
            "Resolving deltas: 100% (41/41), done.\n"
          ],
          "name": "stdout"
        }
      ]
    },
    {
      "cell_type": "code",
      "metadata": {
        "id": "w7c4MTMwno-x"
      },
      "source": [
        "import numpy as np\n",
        "import matplotlib.pyplot as plt\n",
        "import os\n",
        "import pandas as pd\n",
        "import csv\n",
        "import time\n",
        "from numba import jit\n",
        "import random\n",
        "import scipy.special as sc"
      ],
      "execution_count": 77,
      "outputs": []
    },
    {
      "cell_type": "code",
      "metadata": {
        "id": "-U3zsz7nng5n"
      },
      "source": [
        "try:\n",
        "  os.chdir(\"/content/collapsed-VB-inference-LDA\")\n",
        "except:\n",
        "  print(\"Staying in \", os.getcwd())"
      ],
      "execution_count": 78,
      "outputs": []
    },
    {
      "cell_type": "code",
      "metadata": {
        "id": "Et-igkERnNIr"
      },
      "source": [
        "from Gibbs import collapsed_gibbs_sampling_jit\n",
        "from vb import LDA_VB, log_pba_approx\n",
        "from collapsed_VB import LDA_collapsed"
      ],
      "execution_count": 79,
      "outputs": []
    },
    {
      "cell_type": "markdown",
      "metadata": {
        "id": "Ovnl5oIgqx0Q"
      },
      "source": [
        "# Reading Data\n",
        "\n",
        "In this section, we load the raw data, i.e. the corpus and the vocabulary for the KOS dataset."
      ]
    },
    {
      "cell_type": "code",
      "metadata": {
        "id": "mo6-jsmAqxFJ"
      },
      "source": [
        "vocab = pd.read_csv('./Data/vocab.kos.txt', header = None).rename(columns={0 : 'word'})\n",
        "corpus = pd.read_csv('./Data/corpus.kos.txt', header=None, sep = ' ', skiprows=3).rename(columns={0: 'document', 1: 'word', 2 : 'count'})\n",
        "W = 6906\n",
        "N = 353160\n",
        "D = 3430"
      ],
      "execution_count": 80,
      "outputs": []
    },
    {
      "cell_type": "code",
      "metadata": {
        "colab": {
          "base_uri": "https://localhost:8080/",
          "height": 0
        },
        "id": "C93W6myFrCtg",
        "outputId": "3dc49f87-793e-49a1-b383-56efdee9e653"
      },
      "source": [
        "vocab.head()"
      ],
      "execution_count": 81,
      "outputs": [
        {
          "output_type": "execute_result",
          "data": {
            "text/html": [
              "<div>\n",
              "<style scoped>\n",
              "    .dataframe tbody tr th:only-of-type {\n",
              "        vertical-align: middle;\n",
              "    }\n",
              "\n",
              "    .dataframe tbody tr th {\n",
              "        vertical-align: top;\n",
              "    }\n",
              "\n",
              "    .dataframe thead th {\n",
              "        text-align: right;\n",
              "    }\n",
              "</style>\n",
              "<table border=\"1\" class=\"dataframe\">\n",
              "  <thead>\n",
              "    <tr style=\"text-align: right;\">\n",
              "      <th></th>\n",
              "      <th>word</th>\n",
              "    </tr>\n",
              "  </thead>\n",
              "  <tbody>\n",
              "    <tr>\n",
              "      <th>0</th>\n",
              "      <td>aarp</td>\n",
              "    </tr>\n",
              "    <tr>\n",
              "      <th>1</th>\n",
              "      <td>abandon</td>\n",
              "    </tr>\n",
              "    <tr>\n",
              "      <th>2</th>\n",
              "      <td>abandoned</td>\n",
              "    </tr>\n",
              "    <tr>\n",
              "      <th>3</th>\n",
              "      <td>abandoning</td>\n",
              "    </tr>\n",
              "    <tr>\n",
              "      <th>4</th>\n",
              "      <td>abb</td>\n",
              "    </tr>\n",
              "  </tbody>\n",
              "</table>\n",
              "</div>"
            ],
            "text/plain": [
              "         word\n",
              "0        aarp\n",
              "1     abandon\n",
              "2   abandoned\n",
              "3  abandoning\n",
              "4         abb"
            ]
          },
          "metadata": {
            "tags": []
          },
          "execution_count": 81
        }
      ]
    },
    {
      "cell_type": "code",
      "metadata": {
        "colab": {
          "base_uri": "https://localhost:8080/",
          "height": 0
        },
        "id": "yxBuu8ScrHqi",
        "outputId": "e5f95e4f-d475-4244-bf5d-42173e5e6c3d"
      },
      "source": [
        "corpus.head()"
      ],
      "execution_count": 82,
      "outputs": [
        {
          "output_type": "execute_result",
          "data": {
            "text/html": [
              "<div>\n",
              "<style scoped>\n",
              "    .dataframe tbody tr th:only-of-type {\n",
              "        vertical-align: middle;\n",
              "    }\n",
              "\n",
              "    .dataframe tbody tr th {\n",
              "        vertical-align: top;\n",
              "    }\n",
              "\n",
              "    .dataframe thead th {\n",
              "        text-align: right;\n",
              "    }\n",
              "</style>\n",
              "<table border=\"1\" class=\"dataframe\">\n",
              "  <thead>\n",
              "    <tr style=\"text-align: right;\">\n",
              "      <th></th>\n",
              "      <th>document</th>\n",
              "      <th>word</th>\n",
              "      <th>count</th>\n",
              "    </tr>\n",
              "  </thead>\n",
              "  <tbody>\n",
              "    <tr>\n",
              "      <th>0</th>\n",
              "      <td>1</td>\n",
              "      <td>61</td>\n",
              "      <td>2</td>\n",
              "    </tr>\n",
              "    <tr>\n",
              "      <th>1</th>\n",
              "      <td>1</td>\n",
              "      <td>76</td>\n",
              "      <td>1</td>\n",
              "    </tr>\n",
              "    <tr>\n",
              "      <th>2</th>\n",
              "      <td>1</td>\n",
              "      <td>89</td>\n",
              "      <td>1</td>\n",
              "    </tr>\n",
              "    <tr>\n",
              "      <th>3</th>\n",
              "      <td>1</td>\n",
              "      <td>211</td>\n",
              "      <td>1</td>\n",
              "    </tr>\n",
              "    <tr>\n",
              "      <th>4</th>\n",
              "      <td>1</td>\n",
              "      <td>296</td>\n",
              "      <td>1</td>\n",
              "    </tr>\n",
              "  </tbody>\n",
              "</table>\n",
              "</div>"
            ],
            "text/plain": [
              "   document  word  count\n",
              "0         1    61      2\n",
              "1         1    76      1\n",
              "2         1    89      1\n",
              "3         1   211      1\n",
              "4         1   296      1"
            ]
          },
          "metadata": {
            "tags": []
          },
          "execution_count": 82
        }
      ]
    },
    {
      "cell_type": "markdown",
      "metadata": {
        "id": "fGQvUUf_sD5p"
      },
      "source": [
        "# Building document Word Matrix\n",
        "\n",
        "A document word matrix $M$ is a matrix of size $D \\times W$, with $D$ the number of documents and $W$ the number of words. $M[i,j]$ represents the number of time that the word $j$ appears in the document $i$. \n",
        "\n",
        "In this section, we build the document-word-matrices used during the training and testing. For our study, we chose a ration of 0.1, which means that 10% of the words are set to a test dataset.\n",
        "\n",
        "Finally, we have the following relation between the train and test matrices: \n",
        "$M = M_{test} + M_{train}$, where $M_{train}$ and  $M_{test}$ respectively designs the document-word-matrices of train and test."
      ]
    },
    {
      "cell_type": "code",
      "metadata": {
        "id": "Cvk0M2_LsSLj"
      },
      "source": [
        "document_word_matrix = np.zeros((D, W))\n",
        "\n",
        "for i in range(corpus.shape[0]):\n",
        "  d, w, c  = corpus.iloc[i, :]\n",
        "  for i in range(c):\n",
        "    document_word_matrix[d-1, w-1] += 1"
      ],
      "execution_count": 83,
      "outputs": []
    },
    {
      "cell_type": "code",
      "metadata": {
        "id": "IC4dsOvNsGk5"
      },
      "source": [
        "# fixing seed\n",
        "np.random.seed(0)\n",
        "\n",
        "# document word matrices of train and test\n",
        "document_word_matrix_train = np.zeros((D, W))\n",
        "document_word_matrix_test = np.zeros((D, W))\n",
        "\n",
        "ratio = 0.1\n",
        "n_doc = 1000\n",
        "D,W = document_word_matrix.shape\n",
        "for d in range(D):\n",
        "  nb_words = document_word_matrix[d,:].sum().astype(int)\n",
        "  # a given 'ratio' of words are set to the test dataset\n",
        "  selected_words = random.sample(list(np.arange(nb_words)), int(np.ceil(ratio*nb_words)))\n",
        "  raw_indexes = np.where(document_word_matrix[d,:])[0] # non-zero elements\n",
        "  indexes = []\n",
        "  for k, id in enumerate(raw_indexes):\n",
        "    for _ in range(int(document_word_matrix[d,id])):\n",
        "      indexes.append(id)\n",
        "  for sw in selected_words:\n",
        "    document_word_matrix_test[d,indexes[sw]] += 1\n",
        "\n",
        "document_word_matrix_train = document_word_matrix - document_word_matrix_test"
      ],
      "execution_count": 84,
      "outputs": []
    },
    {
      "cell_type": "markdown",
      "metadata": {
        "id": "4zJiNMoFon3w"
      },
      "source": [
        "# LDA with variational Bayes (VB)\n",
        "\n",
        "In this section, we apply the VB-LDA algorithm to the dataset. We plot the variational bound, as well as the approximate per-word log-probabilities for the train and test datasets at each iteration of the algorithm"
      ]
    },
    {
      "cell_type": "code",
      "metadata": {
        "id": "sOcdTetdor4j",
        "colab": {
          "base_uri": "https://localhost:8080/"
        },
        "outputId": "447088f8-bc9d-4401-9164-265c3dfbd226"
      },
      "source": [
        "# number of topic\n",
        "K = 8 \n",
        "# number of times each document is seen\n",
        "n_iter_doc = 30\n",
        "# number of inner iterations\n",
        "n_iter = 10\n",
        "# LDA parameters\n",
        "alpha = 0.1\n",
        "eta = 0.1\n",
        "\n",
        "n_doc = 1000\n",
        "n_word = 10000\n",
        "\n",
        "t1 = time.time()\n",
        "VB_bound, log_pba_train_vb, log_pba_test_vb, phi_vb, gamma_vb, lambda_vb = LDA_VB(document_word_matrix_train[:n_doc, :n_word], document_word_matrix_test, n_iter_doc, n_iter, K, alpha, eta)\n",
        "t2 = time.time()\n",
        "print('Total time =', t2 - t1)"
      ],
      "execution_count": 85,
      "outputs": [
        {
          "output_type": "stream",
          "text": [
            "iter n°0 - iter time = 2.624413013458252 - bound time = 0.5495388507843018 - bound value = -925542.3355183102 - bound_test -177550.59201637498\n",
            "iter n°1 - iter time = 2.7909061908721924 - bound time = 0.5450499057769775 - bound value = -907153.5326397335 - bound_test -169280.7780007018\n",
            "iter n°2 - iter time = 2.7467293739318848 - bound time = 0.5394177436828613 - bound value = -891840.5429751504 - bound_test -161845.5045810225\n",
            "iter n°3 - iter time = 2.7510173320770264 - bound time = 0.5295705795288086 - bound value = -883062.2865782303 - bound_test -155428.33819789672\n",
            "iter n°4 - iter time = 2.693087339401245 - bound time = 0.5233325958251953 - bound value = -878350.6790468025 - bound_test -149814.27076591138\n",
            "iter n°5 - iter time = 2.509348154067993 - bound time = 0.5253379344940186 - bound value = -875616.105875025 - bound_test -145822.51288906118\n",
            "iter n°6 - iter time = 2.0830137729644775 - bound time = 0.5253419876098633 - bound value = -874396.065931554 - bound_test -143681.6546739113\n",
            "iter n°7 - iter time = 1.726306676864624 - bound time = 0.5268096923828125 - bound value = -873685.235271625 - bound_test -142441.20083390916\n",
            "iter n°8 - iter time = 1.5214767456054688 - bound time = 0.514700174331665 - bound value = -873234.8503920209 - bound_test -141757.42388017202\n",
            "iter n°9 - iter time = 1.342344045639038 - bound time = 0.5236680507659912 - bound value = -872925.5547137801 - bound_test -141372.8383738615\n",
            "iter n°10 - iter time = 1.2351408004760742 - bound time = 0.5219316482543945 - bound value = -872707.7682957263 - bound_test -141155.8473437975\n",
            "iter n°11 - iter time = 1.1675193309783936 - bound time = 0.5209717750549316 - bound value = -872589.1929937289 - bound_test -141045.2611497119\n",
            "iter n°12 - iter time = 1.1214416027069092 - bound time = 0.5254149436950684 - bound value = -872507.9053292065 - bound_test -140979.0642128907\n",
            "iter n°13 - iter time = 1.0997529029846191 - bound time = 0.5299596786499023 - bound value = -872476.5439772264 - bound_test -140949.76399971062\n",
            "iter n°14 - iter time = 1.0618786811828613 - bound time = 0.5136301517486572 - bound value = -872452.9958254347 - bound_test -140920.16823979787\n",
            "iter n°15 - iter time = 1.0393948554992676 - bound time = 0.5288803577423096 - bound value = -872438.9346902233 - bound_test -140899.92278255458\n",
            "iter n°16 - iter time = 1.0264654159545898 - bound time = 0.5237178802490234 - bound value = -872420.1400945378 - bound_test -140872.07717847382\n",
            "iter n°17 - iter time = 1.0250492095947266 - bound time = 0.5265448093414307 - bound value = -872404.8634018865 - bound_test -140855.64454262293\n",
            "iter n°18 - iter time = 0.9973950386047363 - bound time = 0.5187170505523682 - bound value = -872401.6122079436 - bound_test -140844.1502974711\n",
            "iter n°19 - iter time = 1.005204439163208 - bound time = 0.5221483707427979 - bound value = -872393.1933812734 - bound_test -140826.07236344437\n",
            "iter n°20 - iter time = 0.9858911037445068 - bound time = 0.5331697463989258 - bound value = -872391.5851577619 - bound_test -140819.53534904128\n",
            "iter n°21 - iter time = 0.9677624702453613 - bound time = 0.5202198028564453 - bound value = -872390.1498678171 - bound_test -140806.9150431641\n",
            "iter n°22 - iter time = 0.9837028980255127 - bound time = 0.5299062728881836 - bound value = -872379.7171826912 - bound_test -140785.99608813663\n",
            "iter n°23 - iter time = 0.9781882762908936 - bound time = 0.5451738834381104 - bound value = -872375.5662408049 - bound_test -140780.01439354906\n",
            "iter n°24 - iter time = 0.9792051315307617 - bound time = 0.5229008197784424 - bound value = -872368.1692195586 - bound_test -140772.61392830915\n",
            "iter n°25 - iter time = 0.9813816547393799 - bound time = 0.5403358936309814 - bound value = -872357.9477796645 - bound_test -140764.2331663467\n",
            "iter n°26 - iter time = 0.9905765056610107 - bound time = 0.5297145843505859 - bound value = -872354.5112586748 - bound_test -140758.0785344906\n",
            "iter n°27 - iter time = 0.9801225662231445 - bound time = 0.5368537902832031 - bound value = -872343.663674699 - bound_test -140746.50736299262\n",
            "iter n°28 - iter time = 0.9727659225463867 - bound time = 0.5227091312408447 - bound value = -872343.9140388486 - bound_test -140744.5797937779\n",
            "iter n°29 - iter time = 0.9648890495300293 - bound time = 0.5293159484863281 - bound value = -872343.9221142537 - bound_test -140743.59809527855\n",
            "Total time = 60.14952802658081\n"
          ],
          "name": "stdout"
        }
      ]
    },
    {
      "cell_type": "code",
      "metadata": {
        "id": "wJ9bnX84or18",
        "colab": {
          "base_uri": "https://localhost:8080/",
          "height": 295
        },
        "outputId": "06bc12fd-af96-411b-f3aa-f399afedcabb"
      },
      "source": [
        "plt.plot(np.array(VB_bound)/np.sum(document_word_matrix_train[:n_doc, :n_word]))\n",
        "plt.title('Variational Bound');\n",
        "_ = plt.xlabel('iterations')"
      ],
      "execution_count": 86,
      "outputs": [
        {
          "output_type": "display_data",
          "data": {
            "image/png": "[encoded data removed]",
            "text/plain": [
              "<Figure size 432x288 with 1 Axes>"
            ]
          },
          "metadata": {
            "tags": [],
            "needs_background": "light"
          }
        }
      ]
    },
    {
      "cell_type": "code",
      "metadata": {
        "id": "R0HAUsxaorvo",
        "colab": {
          "base_uri": "https://localhost:8080/",
          "height": 295
        },
        "outputId": "7ebaa404-1b0d-429f-918c-5546e4efbf57"
      },
      "source": [
        "plt.plot(log_pba_train_vb/np.sum(document_word_matrix_train[:n_doc, :n_word]))\n",
        "plt.title('Log pba train (Approx)');\n",
        "_ = plt.xlabel('iterations')"
      ],
      "execution_count": null,
      "outputs": [
        {
          "output_type": "display_data",
          "data": {
            "image/png": "[encoded data removed]",
            "text/plain": [
              "<Figure size 432x288 with 1 Axes>"
            ]
          },
          "metadata": {
            "tags": [],
            "needs_background": "light"
          }
        }
      ]
    },
    {
      "cell_type": "code",
      "metadata": {
        "id": "-EnoCG8t6RUp",
        "colab": {
          "base_uri": "https://localhost:8080/",
          "height": 295
        },
        "outputId": "19e5c584-66e0-489d-890e-df2e4fcebc4c"
      },
      "source": [
        "plt.plot(log_pba_test_vb/np.sum(document_word_matrix_test[:n_doc, :n_word]))\n",
        "plt.title('Log pba test (Approx)');\n",
        "_ = plt.xlabel('iterations')"
      ],
      "execution_count": null,
      "outputs": [
        {
          "output_type": "display_data",
          "data": {
            "image/png": "[encoded data removed]",
            "text/plain": [
              "<Figure size 432x288 with 1 Axes>"
            ]
          },
          "metadata": {
            "tags": [],
            "needs_background": "light"
          }
        }
      ]
    },
    {
      "cell_type": "markdown",
      "metadata": {
        "id": "Jlngd7Hf62Fg"
      },
      "source": [
        "# Collapsed gibbs sampling\n",
        "\n",
        "In this section, we apply the collapsed gibbs sampling to the dataset. We then plot the per-word log-probabilies at each iteration."
      ]
    },
    {
      "cell_type": "code",
      "metadata": {
        "colab": {
          "base_uri": "https://localhost:8080/"
        },
        "id": "iw9-UP9664Fv",
        "outputId": "3b7e7f12-9c17-4ca8-d664-0b8d0ffbedb6"
      },
      "source": [
        "K = 8\n",
        "\n",
        "n_iter = 100\n",
        "alpha = 0.1\n",
        "eta = 0.1\n",
        "\n",
        "n_doc = 10000\n",
        "n_word = 10000\n",
        "\n",
        "t1 = time.time()\n",
        "approx_pba, z = collapsed_gibbs_sampling_jit(document_word_matrix_test[:n_doc,:n_word], n_iter, K, alpha, eta)\n",
        "t2 = time.time()\n",
        "print('Total time =', t2 - t1)"
      ],
      "execution_count": null,
      "outputs": [
        {
          "output_type": "stream",
          "text": [
            "Total time = 30.159645795822144\n"
          ],
          "name": "stdout"
        }
      ]
    },
    {
      "cell_type": "code",
      "metadata": {
        "colab": {
          "base_uri": "https://localhost:8080/"
        },
        "id": "VKTHAca_CHKz",
        "outputId": "d939b956-5d77-4e8a-9ab2-8fff0c0dbb89"
      },
      "source": [
        "plt.plot(approx_pba / np.sum(document_word_matrix_test[:n_doc, :n_word]))\n",
        "plt.title('Log pba test - Gibbs sampling');"
      ],
      "execution_count": null,
      "outputs": [
        {
          "output_type": "display_data",
          "data": {
            "image/png": "[encoded data removed]",
            "text/plain": [
              "<Figure size 432x288 with 1 Axes>"
            ]
          },
          "metadata": {
            "tags": [],
            "needs_background": "light"
          }
        }
      ]
    },
    {
      "cell_type": "markdown",
      "metadata": {
        "id": "QlvjK0nML6Nj"
      },
      "source": [
        "# Collapsed Variational Bayesian (CVB) Inference for LDA\n",
        "\n",
        "In this section, we apply the CVB-LDA algorithm to the dataset. We then plot the approximate per-word log-probabilities for the train and test datasets at each iteration of the algorithm."
      ]
    },
    {
      "cell_type": "code",
      "metadata": {
        "colab": {
          "base_uri": "https://localhost:8080/"
        },
        "id": "2T_o3valL-XR",
        "outputId": "181cdd3d-2080-4d27-8884-52c6a628f3e4"
      },
      "source": [
        "K = 8\n",
        "\n",
        "n_iter_doc = 30\n",
        "n_iter = 7\n",
        "alpha = 0.1\n",
        "eta = 0.1\n",
        "\n",
        "n_docs = 100\n",
        "n_mots = 1000\n",
        "\n",
        "t1 = time.time()\n",
        "bound_list_cl, bound_test_cl, phi_cl, gamma_cl, lambda_cl = LDA_collapsed(document_word_matrix_train[:n_docs,:n_mots], document_word_matrix_test[:n_docs,:n_mots], n_iter_doc, n_iter, K, alpha, eta)\n",
        "t2 = time.time()\n",
        "print('Total time =', t2 - t1)"
      ],
      "execution_count": null,
      "outputs": [
        {
          "output_type": "stream",
          "text": [
            "iter n°0 - iter time = 0.4264647960662842 - bound time = 0.014839649200439453 - bound value = -11797.949359536933 - bound_test -3686.1271272924328\n",
            "iter n°1 - iter time = 0.3178267478942871 - bound time = 0.015530586242675781 - bound value = -10416.86030001198 - bound_test -2975.070000623157\n",
            "iter n°2 - iter time = 0.2621610164642334 - bound time = 0.014504194259643555 - bound value = -10336.781418537339 - bound_test -2875.904358397847\n",
            "iter n°3 - iter time = 0.24864792823791504 - bound time = 0.014700174331665039 - bound value = -10299.95632707481 - bound_test -2818.496422274943\n",
            "iter n°4 - iter time = 0.21620631217956543 - bound time = 0.01499795913696289 - bound value = -10276.125564238559 - bound_test -2783.33958539327\n",
            "iter n°5 - iter time = 0.21659493446350098 - bound time = 0.014578104019165039 - bound value = -10263.725680790974 - bound_test -2750.6990436035094\n",
            "iter n°6 - iter time = 0.2070636749267578 - bound time = 0.015722036361694336 - bound value = -10262.704360488777 - bound_test -2722.936809247254\n",
            "iter n°7 - iter time = 0.18533778190612793 - bound time = 0.022511720657348633 - bound value = -10250.050903875504 - bound_test -2695.007694074237\n",
            "iter n°8 - iter time = 0.1883983612060547 - bound time = 0.014540910720825195 - bound value = -10237.58036749837 - bound_test -2679.0772179848354\n",
            "iter n°9 - iter time = 0.17749953269958496 - bound time = 0.02154827117919922 - bound value = -10215.255715935698 - bound_test -2662.000074871168\n",
            "iter n°10 - iter time = 0.1756572723388672 - bound time = 0.017899036407470703 - bound value = -10210.873007439484 - bound_test -2647.2385922885605\n",
            "iter n°11 - iter time = 0.16385483741760254 - bound time = 0.014690160751342773 - bound value = -10205.827102256504 - bound_test -2635.5805952052087\n",
            "iter n°12 - iter time = 0.15343236923217773 - bound time = 0.014330625534057617 - bound value = -10197.201276515712 - bound_test -2627.2376345222037\n",
            "iter n°13 - iter time = 0.1426241397857666 - bound time = 0.014741182327270508 - bound value = -10194.96151472485 - bound_test -2625.7189546338914\n",
            "iter n°14 - iter time = 0.12185263633728027 - bound time = 0.014916658401489258 - bound value = -10195.492448754037 - bound_test -2626.0236699753486\n",
            "iter n°15 - iter time = 0.11615967750549316 - bound time = 0.014570474624633789 - bound value = -10195.691391926832 - bound_test -2626.3878824287194\n",
            "iter n°16 - iter time = 0.11063528060913086 - bound time = 0.017946243286132812 - bound value = -10195.079707519182 - bound_test -2627.1837131617926\n",
            "iter n°17 - iter time = 0.116729736328125 - bound time = 0.015545368194580078 - bound value = -10193.895554101531 - bound_test -2630.0927850061\n",
            "iter n°18 - iter time = 0.10454964637756348 - bound time = 0.014454364776611328 - bound value = -10193.83067290903 - bound_test -2630.372994422596\n",
            "iter n°19 - iter time = 0.10950446128845215 - bound time = 0.015812158584594727 - bound value = -10193.795888597018 - bound_test -2630.3402301866486\n",
            "iter n°20 - iter time = 0.12845110893249512 - bound time = 0.015614748001098633 - bound value = -10193.771364019825 - bound_test -2630.317552061801\n",
            "iter n°21 - iter time = 0.1194455623626709 - bound time = 0.014540433883666992 - bound value = -10193.75972736901 - bound_test -2630.301442848744\n",
            "iter n°22 - iter time = 0.0971062183380127 - bound time = 0.01570725440979004 - bound value = -10193.756347186407 - bound_test -2630.2883523710834\n",
            "iter n°23 - iter time = 0.1037740707397461 - bound time = 0.01458740234375 - bound value = -10193.752947034283 - bound_test -2630.2790845308928\n",
            "iter n°24 - iter time = 0.09875679016113281 - bound time = 0.014910459518432617 - bound value = -10193.749679649047 - bound_test -2630.2724070523927\n",
            "iter n°25 - iter time = 0.10267114639282227 - bound time = 0.01446986198425293 - bound value = -10193.746720606461 - bound_test -2630.267599000666\n",
            "iter n°26 - iter time = 0.09432792663574219 - bound time = 0.014273881912231445 - bound value = -10193.744068807076 - bound_test -2630.2641130368015\n",
            "iter n°27 - iter time = 0.10143327713012695 - bound time = 0.014691591262817383 - bound value = -10193.741709186414 - bound_test -2630.2615873261157\n",
            "iter n°28 - iter time = 0.09537649154663086 - bound time = 0.014351844787597656 - bound value = -10193.739599777871 - bound_test -2630.259755273963\n",
            "iter n°29 - iter time = 0.1091310977935791 - bound time = 0.01881551742553711 - bound value = -10193.737704083976 - bound_test -2630.258429794778\n",
            "Total time = 5.314054727554321\n"
          ],
          "name": "stdout"
        }
      ]
    },
    {
      "cell_type": "code",
      "metadata": {
        "colab": {
          "base_uri": "https://localhost:8080/",
          "height": 295
        },
        "id": "1mwc3iXWS12w",
        "outputId": "98ed0b85-d9be-4ff5-c275-0f37a5970fe4"
      },
      "source": [
        "plt.plot(np.array(bound_list_cl)/np.sum(document_word_matrix_train[:n_docs,:n_mots]))\n",
        "plt.title('Log pba Train');\n",
        "_ = plt.xlabel('iterations')"
      ],
      "execution_count": null,
      "outputs": [
        {
          "output_type": "display_data",
          "data": {
            "image/png": "[encoded data removed]",
            "text/plain": [
              "<Figure size 432x288 with 1 Axes>"
            ]
          },
          "metadata": {
            "tags": [],
            "needs_background": "light"
          }
        }
      ]
    },
    {
      "cell_type": "code",
      "metadata": {
        "colab": {
          "base_uri": "https://localhost:8080/",
          "height": 295
        },
        "id": "by4zZ8FRS1rh",
        "outputId": "2883deda-5e7c-4eb9-8874-0d666c383781"
      },
      "source": [
        "plt.plot(np.array(bound_test_cl)/np.sum(document_word_matrix_test[:n_docs,:n_mots]))\n",
        "plt.title('Log pba Test');\n",
        "_ = plt.xlabel('iterations')"
      ],
      "execution_count": null,
      "outputs": [
        {
          "output_type": "display_data",
          "data": {
            "image/png": "[encoded data removed]",
            "text/plain": [
              "<Figure size 432x288 with 1 Axes>"
            ]
          },
          "metadata": {
            "tags": [],
            "needs_background": "light"
          }
        }
      ]
    },
    {
      "cell_type": "markdown",
      "metadata": {
        "id": "jTZqxBJmbtAL"
      },
      "source": [
        "# Final log-proba plots\n",
        "\n",
        "In this section, we generate the figures used in the final report. As some results are computationally expensive, we computed them once and saved them in the github repository."
      ]
    },
    {
      "cell_type": "code",
      "metadata": {
        "id": "gnp3kfVXbz_a"
      },
      "source": [
        "# loading precomputed log-proba curves\n",
        "test_gibbs = np.load('results/test_Gibbs_log_pba.npy')\n",
        "\n",
        "test_VB_pba = np.load('results/test_VB_log_pba.npy')\n",
        "train_VB_pba = np.load('results/train_VB_log_pba.npy')\n",
        "\n",
        "train_coll = np.load('results/train_Coll_log_pba.npy')\n",
        "test_coll = np.load('results/test_Coll_log_pba.npy')"
      ],
      "execution_count": null,
      "outputs": []
    },
    {
      "cell_type": "code",
      "metadata": {
        "colab": {
          "base_uri": "https://localhost:8080/",
          "height": 350
        },
        "id": "50NWf-iVb0im",
        "outputId": "59fe8a76-c6fe-4d4e-b1d7-aaa06d1e06e1"
      },
      "source": [
        "fig, ax = plt.subplots(1,2, figsize=(15,5))\n",
        "\n",
        "# training curves\n",
        "ax[0].plot(train_coll, c='orange', label = 'Log-pba Collapsed VB')\n",
        "ax[0].plot(train_VB_pba, '-.', c='g', label = 'Log-pba VB')\n",
        "ax[0].set_xlabel('iterations')\n",
        "ax[0].set_ylim([-8.5,-7.86])\n",
        "ax[0].legend()\n",
        "ax[0].set_title(\"Per-word log-probas - training set\")\n",
        "\n",
        "# test curves\n",
        "ax[1].plot(test_gibbs, ':', label='Gibbs sampling')\n",
        "ax[1].plot(test_coll, label = 'Log-pba Collapsed VB')\n",
        "ax[1].plot(test_VB_pba, '-.', label = 'Log-pba VB')\n",
        "ax[1].legend()\n",
        "ax[1].set_xlabel('iterations')\n",
        "ax[1].set_title(\"Per-word log-probas - test set\")\n",
        "_ = ax[1].set_ylim([-12,-8.5])"
      ],
      "execution_count": null,
      "outputs": [
        {
          "output_type": "display_data",
          "data": {
            "image/png": "[encoded data removed]",
            "text/plain": [
              "<Figure size 1080x360 with 2 Axes>"
            ]
          },
          "metadata": {
            "tags": [],
            "needs_background": "light"
          }
        }
      ]
    },
    {
      "cell_type": "markdown",
      "metadata": {
        "id": "YFovGHC-dzf4"
      },
      "source": [
        "# Best words per topic\n",
        "\n",
        "In this part, we retrieve the best words per topic. For each topic, we look at the $n_{max}$ most probable words."
      ]
    },
    {
      "cell_type": "code",
      "metadata": {
        "id": "mElow9Nwd1-v"
      },
      "source": [
        "lambda_CVB = np.load('results/lambda_.npy')"
      ],
      "execution_count": 9,
      "outputs": []
    },
    {
      "cell_type": "code",
      "metadata": {
        "id": "2ZGBI8qBd_5O"
      },
      "source": [
        "def best_words_per_topic(lambda_, vocab, n_max=10, topics=None):\n",
        "  \"\"\"\n",
        "  Compute best words per topic.\n",
        "\n",
        "  :param lambda: array of size K*W, (unnormalized) distributions of topics over words\n",
        "  :param n_max: int, number of best words to show\n",
        "  \"\"\"\n",
        "  # nb of topics\n",
        "  K = lambda_.shape[0]\n",
        "\n",
        "  # compute best_words\n",
        "  best_idx = np.argsort(lambda_, axis = 1)[:, -n_max:]\n",
        "  Best_word = []\n",
        "\n",
        "  for k in range(K):\n",
        "    best_word_topic = []\n",
        "    for w in range(n_max):\n",
        "      best_word_topic.append(vocab[best_idx[k, w]])\n",
        "    Best_word.append(best_word_topic)\n",
        "\n",
        "  # print best_words\n",
        "  if topics is None:\n",
        "    # print results for all topics\n",
        "    topics = np.arange(K)\n",
        "  \n",
        "  for topic in topics:\n",
        "    print(\"=== Topic {} ===\".format(topic+1))\n",
        "    str_bw = ''\n",
        "    for k, word in enumerate(Best_word[topic]):\n",
        "      str_bw += Best_word[topic][k]\n",
        "      str_bw += ', '\n",
        "    print(str_bw[:-2])"
      ],
      "execution_count": 60,
      "outputs": []
    },
    {
      "cell_type": "code",
      "metadata": {
        "colab": {
          "base_uri": "https://localhost:8080/"
        },
        "id": "HyTo2LPRN-uL",
        "outputId": "6d4545dc-0949-4d07-b892-06652ab6e1b9"
      },
      "source": [
        "print(\"-------------- \\n classical VB \\n-------------- \")\n",
        "best_words_per_topic(lambda_vb, vocab.to_numpy().squeeze(), 10)"
      ],
      "execution_count": 87,
      "outputs": [
        {
          "output_type": "stream",
          "text": [
            "-------------- \n",
            " classical VB \n",
            "-------------- \n",
            "=== Topic 1 ===\n",
            "chalabi, terrorist, team, human, article, protests, kids, endspan, results, voting\n",
            "=== Topic 2 ===\n",
            "rcalif, lugar, mcgovern, harman, dole, roundup, adviser, ohpres, enterprise, cnnusa\n",
            "=== Topic 3 ===\n",
            "campaign, republicans, senate, war, general, poll, house, november, kerry, bush\n",
            "=== Topic 4 ===\n",
            "sox, deficit, delays, rogers, confident, schools, holding, interrogation, grassroots, matching\n",
            "=== Topic 5 ===\n",
            "perle, orders, bloc, pakistan, mouse, wounded, mice, french, ndp, handover\n",
            "=== Topic 6 ===\n",
            "report, account, support, numbers, convention, win, races, john, media, iraq\n",
            "=== Topic 7 ===\n",
            "foundations, fishing, heroism, elliott, nyt, liebeck, stella, oceana, mcdonalds, video\n",
            "=== Topic 8 ===\n",
            "personal, high, add, reason, men, saddam, attacks, members, early, wont\n"
          ],
          "name": "stdout"
        }
      ]
    },
    {
      "cell_type": "code",
      "metadata": {
        "colab": {
          "base_uri": "https://localhost:8080/"
        },
        "id": "ZLt4EPdJlLRL",
        "outputId": "e55a3aa5-eb28-4e89-c50b-4fb7a06e421e"
      },
      "source": [
        "print(\"-------------- \\n Collapsed VB \\n-------------- \")\n",
        "best_words_per_topic(lambda_CVB, vocab.to_numpy().squeeze(), 10)"
      ],
      "execution_count": 65,
      "outputs": [
        {
          "output_type": "stream",
          "text": [
            "-------------- \n",
            " Collapsed VB \n",
            "-------------- \n",
            "=== Topic 1 ===\n",
            "cnnusa, mehlman, luntz, china, googlebomb, teresa, bishops, colmes, reynolds, nagourney\n",
            "=== Topic 2 ===\n",
            "understood, monetary, motivations, veto, israeli, misterajc, bloomfield, countdown, virginiadem, punkmonk\n",
            "=== Topic 3 ===\n",
            "cnnusa, mehlman, luntz, china, googlebomb, teresa, bishops, colmes, reynolds, nagourney\n",
            "=== Topic 4 ===\n",
            "cnnusa, mehlman, luntz, china, googlebomb, teresa, bishops, colmes, reynolds, nagourney\n",
            "=== Topic 5 ===\n",
            "people, campaign, republicans, war, senate, poll, general, house, kerry, bush\n",
            "=== Topic 6 ===\n",
            "watchers, openhttpwwwedwardsforprezcomdailykoshtml, contact, login, powered, voting, sunzoo, electoral, account, november\n",
            "=== Topic 7 ===\n",
            "liberation, shia, imam, dry, hospitals, occupy, arrives, palestinians, alhusainy, dearborn\n",
            "=== Topic 8 ===\n",
            "cnnusa, mehlman, luntz, china, googlebomb, teresa, bishops, colmes, reynolds, nagourney\n"
          ],
          "name": "stdout"
        }
      ]
    },
    {
      "cell_type": "markdown",
      "metadata": {
        "id": "N9mgqom5l-Ta"
      },
      "source": [
        "# Investigating a new dataset: REUTERS\n",
        "\n",
        "In this section, we apply the three algorithms (VB, collapsed VB, collapsed Gibbs sampling) to the dataset REUTERS, and then plot the evolution of the per-word log-probabilities for each algorithm."
      ]
    },
    {
      "cell_type": "code",
      "metadata": {
        "id": "11zXlzoGmB_t"
      },
      "source": [
        "document_word_matrix_reuters = np.load('Data/Reuters_dataset.npy')\n",
        "vocab_reuters = np.load('Data/Reuters_vocab.npy')"
      ],
      "execution_count": 23,
      "outputs": []
    },
    {
      "cell_type": "code",
      "metadata": {
        "colab": {
          "base_uri": "https://localhost:8080/"
        },
        "id": "PGuNkzdIm1gk",
        "outputId": "5cca6616-7efc-4d68-e1b4-b39f93c6d7cb"
      },
      "source": [
        "# VB LDA\n",
        "K = 10\n",
        "n_iter_doc = 30\n",
        "n_iter = 10\n",
        "alpha = 0.1\n",
        "eta = 0.1\n",
        "\n",
        "t1 = time.time()\n",
        "VB_bound_rt, log_pba_train_vb_rt, log_pba_test_vb_rt, phi_vb_rt, gamma_vb_rt, lambda_vb_rt = LDA_VB(document_word_matrix_reuters, document_word_matrix_reuters, n_iter_doc, n_iter, K, alpha, eta)\n",
        "t2 = time.time()\n",
        "print('Total time =', t2 - t1)"
      ],
      "execution_count": 26,
      "outputs": [
        {
          "output_type": "stream",
          "text": [
            "iter n°0 - iter time = 1.4542410373687744 - bound time = 0.2551913261413574 - bound value = -654011.4968643391 - bound_test -716838.7760447812\n",
            "iter n°1 - iter time = 1.5490915775299072 - bound time = 0.24212336540222168 - bound value = -635582.0740703782 - bound_test -697107.8122938904\n",
            "iter n°2 - iter time = 1.539856195449829 - bound time = 0.23741674423217773 - bound value = -616221.1756741136 - bound_test -680224.0884332503\n",
            "iter n°3 - iter time = 1.514174461364746 - bound time = 0.23901677131652832 - bound value = -609477.2393656916 - bound_test -674605.1432327377\n",
            "iter n°4 - iter time = 1.3175990581512451 - bound time = 0.24083304405212402 - bound value = -607473.8365337525 - bound_test -673412.4653125769\n",
            "iter n°5 - iter time = 1.163259506225586 - bound time = 0.244215726852417 - bound value = -607216.6512964194 - bound_test -673729.5786927572\n",
            "iter n°6 - iter time = 1.060354471206665 - bound time = 0.24961423873901367 - bound value = -606930.5249776659 - bound_test -673672.3560073755\n",
            "iter n°7 - iter time = 0.9157061576843262 - bound time = 0.23314952850341797 - bound value = -606637.2755528057 - bound_test -673457.2833664954\n",
            "iter n°8 - iter time = 0.7977843284606934 - bound time = 0.23304104804992676 - bound value = -606414.3689134482 - bound_test -673270.6307676014\n",
            "iter n°9 - iter time = 0.7555809020996094 - bound time = 0.23570847511291504 - bound value = -606252.3304920329 - bound_test -673135.7943493233\n",
            "iter n°10 - iter time = 0.713965892791748 - bound time = 0.23669123649597168 - bound value = -606150.297547214 - bound_test -673063.8282315272\n",
            "iter n°11 - iter time = 0.6801111698150635 - bound time = 0.2336125373840332 - bound value = -606074.2711124071 - bound_test -673010.745607969\n",
            "iter n°12 - iter time = 0.6682348251342773 - bound time = 0.24469852447509766 - bound value = -606003.3639473498 - bound_test -672951.5802859856\n",
            "iter n°13 - iter time = 0.6132380962371826 - bound time = 0.24343657493591309 - bound value = -605869.3221195798 - bound_test -672823.1256953502\n",
            "iter n°14 - iter time = 0.594430685043335 - bound time = 0.2459886074066162 - bound value = -605831.7585495599 - bound_test -672793.4379082738\n",
            "iter n°15 - iter time = 0.5876278877258301 - bound time = 0.23829436302185059 - bound value = -605811.5800775137 - bound_test -672775.4612373618\n",
            "iter n°16 - iter time = 0.5763583183288574 - bound time = 0.2553541660308838 - bound value = -605811.6683240994 - bound_test -672775.2446228561\n",
            "iter n°17 - iter time = 0.5795934200286865 - bound time = 0.23350191116333008 - bound value = -605813.6779582081 - bound_test -672776.7874516072\n",
            "iter n°18 - iter time = 0.6050870418548584 - bound time = 0.23240327835083008 - bound value = -605811.1765812623 - bound_test -672772.0122939089\n",
            "iter n°19 - iter time = 0.5934476852416992 - bound time = 0.2453153133392334 - bound value = -605749.9703935205 - bound_test -672705.2278934595\n",
            "iter n°20 - iter time = 0.5698404312133789 - bound time = 0.24942374229431152 - bound value = -605660.3618605733 - bound_test -672616.9691151135\n",
            "iter n°21 - iter time = 0.5231289863586426 - bound time = 0.23362493515014648 - bound value = -605634.3246372195 - bound_test -672594.1871923252\n",
            "iter n°22 - iter time = 0.5310540199279785 - bound time = 0.23725056648254395 - bound value = -605603.586740714 - bound_test -672563.8802288212\n",
            "iter n°23 - iter time = 0.5143253803253174 - bound time = 0.2380833625793457 - bound value = -605595.1063685074 - bound_test -672557.9800564734\n",
            "iter n°24 - iter time = 0.5052471160888672 - bound time = 0.24268412590026855 - bound value = -605594.8576792594 - bound_test -672556.04112686\n",
            "iter n°25 - iter time = 0.5306389331817627 - bound time = 0.24077248573303223 - bound value = -605581.6432231644 - bound_test -672544.0138004351\n",
            "iter n°26 - iter time = 0.5252599716186523 - bound time = 0.23267149925231934 - bound value = -605576.9785112843 - bound_test -672540.3472599572\n",
            "iter n°27 - iter time = 0.5077841281890869 - bound time = 0.23861980438232422 - bound value = -605573.048125454 - bound_test -672536.7438966737\n",
            "iter n°28 - iter time = 0.4861135482788086 - bound time = 0.2411954402923584 - bound value = -605566.9555279138 - bound_test -672530.7383256602\n",
            "iter n°29 - iter time = 0.5008909702301025 - bound time = 0.23280906677246094 - bound value = -605560.0213896539 - bound_test -672524.2674471622\n",
            "Total time = 30.798988580703735\n"
          ],
          "name": "stdout"
        }
      ]
    },
    {
      "cell_type": "code",
      "metadata": {
        "colab": {
          "base_uri": "https://localhost:8080/"
        },
        "id": "FQAadjs9nF_w",
        "outputId": "718d9d70-354d-4b46-b792-2a50ebdf795c"
      },
      "source": [
        "# CVB LDA\n",
        "K=10\n",
        "t1 = time.time()\n",
        "bound_list_cl_rt, bound_test_cl_rt, phi_cl_rt, gamma_cl_rt, lambda_cl_rt = LDA_collapsed(document_word_matrix_reuters, document_word_matrix_reuters, n_iter_doc, n_iter, K, alpha, eta)\n",
        "t2 = time.time()\n",
        "print('Total time =', t2 - t1)"
      ],
      "execution_count": 35,
      "outputs": [
        {
          "output_type": "stream",
          "text": [
            "iter n°0 - iter time = 91.51463055610657 - bound time = 0.1402721405029297 - bound value = -724245.2940705352 - bound_test -724245.2940705352\n",
            "iter n°1 - iter time = 85.18184208869934 - bound time = 0.12950444221496582 - bound value = -670497.9245301102 - bound_test -670497.9245301102\n",
            "iter n°2 - iter time = 65.21016907691956 - bound time = 0.15796685218811035 - bound value = -664715.0810358662 - bound_test -664715.0810358662\n",
            "iter n°3 - iter time = 47.301267862319946 - bound time = 0.13122129440307617 - bound value = -664400.6142542495 - bound_test -664400.6142542495\n",
            "iter n°4 - iter time = 41.30910062789917 - bound time = 0.14150667190551758 - bound value = -664509.5205196798 - bound_test -664509.5205196798\n",
            "iter n°5 - iter time = 36.01894736289978 - bound time = 0.12830662727355957 - bound value = -664646.5027731231 - bound_test -664646.5027731231\n",
            "iter n°6 - iter time = 31.909552574157715 - bound time = 0.13268470764160156 - bound value = -664755.7082988633 - bound_test -664755.7082988633\n",
            "iter n°7 - iter time = 30.781760931015015 - bound time = 0.1311194896697998 - bound value = -664857.9890395906 - bound_test -664857.9890395906\n",
            "iter n°8 - iter time = 29.246325969696045 - bound time = 0.14932703971862793 - bound value = -664931.8366157176 - bound_test -664931.8366157176\n",
            "iter n°9 - iter time = 27.51982545852661 - bound time = 0.12797999382019043 - bound value = -664994.1499877041 - bound_test -664994.1499877041\n",
            "iter n°10 - iter time = 27.138622283935547 - bound time = 0.13133978843688965 - bound value = -665049.9016037565 - bound_test -665049.9016037565\n",
            "iter n°11 - iter time = 27.192044734954834 - bound time = 0.13529586791992188 - bound value = -665101.7709157459 - bound_test -665101.7709157459\n",
            "iter n°12 - iter time = 26.51556134223938 - bound time = 0.12938404083251953 - bound value = -665136.1330692021 - bound_test -665136.1330692021\n",
            "iter n°13 - iter time = 24.666449308395386 - bound time = 0.1325690746307373 - bound value = -665161.1215507026 - bound_test -665161.1215507026\n",
            "iter n°14 - iter time = 26.96325421333313 - bound time = 0.12915825843811035 - bound value = -665190.639168997 - bound_test -665190.639168997\n",
            "iter n°15 - iter time = 24.344562768936157 - bound time = 0.14055800437927246 - bound value = -665206.5447063419 - bound_test -665206.5447063419\n",
            "iter n°16 - iter time = 22.613696336746216 - bound time = 0.13197803497314453 - bound value = -665211.653662255 - bound_test -665211.653662255\n",
            "iter n°17 - iter time = 22.07183837890625 - bound time = 0.13045072555541992 - bound value = -665220.4385040387 - bound_test -665220.4385040387\n",
            "iter n°18 - iter time = 21.91737389564514 - bound time = 0.13534808158874512 - bound value = -665229.1872193374 - bound_test -665229.1872193374\n",
            "iter n°19 - iter time = 20.894662141799927 - bound time = 0.1302506923675537 - bound value = -665223.2121601277 - bound_test -665223.2121601277\n",
            "iter n°20 - iter time = 20.62601613998413 - bound time = 0.13176178932189941 - bound value = -665227.049968108 - bound_test -665227.049968108\n",
            "iter n°21 - iter time = 20.215970039367676 - bound time = 0.13640832901000977 - bound value = -665230.320544442 - bound_test -665230.320544442\n",
            "iter n°22 - iter time = 21.413286685943604 - bound time = 0.12622427940368652 - bound value = -665232.2089749464 - bound_test -665232.2089749464\n",
            "iter n°23 - iter time = 20.34349822998047 - bound time = 0.13500046730041504 - bound value = -665232.7529288838 - bound_test -665232.7529288838\n",
            "iter n°24 - iter time = 20.07091736793518 - bound time = 0.13676071166992188 - bound value = -665233.277491409 - bound_test -665233.277491409\n",
            "iter n°25 - iter time = 19.91500687599182 - bound time = 0.13549304008483887 - bound value = -665234.8838105552 - bound_test -665234.8838105552\n",
            "iter n°26 - iter time = 20.175471782684326 - bound time = 0.13419294357299805 - bound value = -665237.1542611894 - bound_test -665237.1542611894\n",
            "iter n°27 - iter time = 19.7075252532959 - bound time = 0.12914609909057617 - bound value = -665239.8881149912 - bound_test -665239.8881149912\n",
            "iter n°28 - iter time = 19.487081289291382 - bound time = 0.13704133033752441 - bound value = -665242.9763692509 - bound_test -665242.9763692509\n",
            "iter n°29 - iter time = 19.14633584022522 - bound time = 0.14319920539855957 - bound value = -665246.0146324874 - bound_test -665246.0146324874\n",
            "Total time = 935.8749632835388\n"
          ],
          "name": "stdout"
        }
      ]
    },
    {
      "cell_type": "code",
      "metadata": {
        "colab": {
          "base_uri": "https://localhost:8080/"
        },
        "id": "HUmrYKzi8kXA",
        "outputId": "72609990-a051-4eef-b308-1f6f8efefaf9"
      },
      "source": [
        "# collapsed gibbs sampling\n",
        "t1 = time.time()\n",
        "approx_pba_rt, z_rt = collapsed_gibbs_sampling_jit(document_word_matrix_reuters, n_iter_doc, K, alpha, eta)\n",
        "t2 = time.time()\n",
        "print('Total time =', t2 - t1)"
      ],
      "execution_count": 54,
      "outputs": [
        {
          "output_type": "stream",
          "text": [
            "Total time = 3.6709446907043457\n"
          ],
          "name": "stdout"
        }
      ]
    },
    {
      "cell_type": "code",
      "metadata": {
        "colab": {
          "base_uri": "https://localhost:8080/",
          "height": 295
        },
        "id": "gbUYzjNM-MHf",
        "outputId": "6bfc90bb-f048-4778-9261-a707d1e8fff1"
      },
      "source": [
        "# plots of log-proba evolution\n",
        "normalization = np.sum(document_word_matrix_reuters)\n",
        "plt.plot(approx_pba_rt/normalization, ':', label='Gibbs sampling')\n",
        "plt.plot(bound_list_cl_rt/normalization, label = 'Log-pba Collapsed VB')\n",
        "plt.plot(log_pba_train_vb_rt/normalization, '-.', label = 'Log-pba VB')\n",
        "plt.legend()\n",
        "plt.xlabel('iterations')\n",
        "_ = plt.title(\"REUTERS - per-word log-probabilites\")"
      ],
      "execution_count": 69,
      "outputs": [
        {
          "output_type": "display_data",
          "data": {
            "image/png": "[encoded data removed]",
            "text/plain": [
              "<Figure size 432x288 with 1 Axes>"
            ]
          },
          "metadata": {
            "tags": [],
            "needs_background": "light"
          }
        }
      ]
    },
    {
      "cell_type": "code",
      "metadata": {
        "colab": {
          "base_uri": "https://localhost:8080/"
        },
        "id": "ig8-YH4DqEOn",
        "outputId": "4c738ea0-e6db-4d11-a65f-37ebc435cbe6"
      },
      "source": [
        "# retrieve best words\n",
        "print(\"-------------- \\n classical VB \\n-------------- \")\n",
        "best_words_per_topic(lambda_vb_rt, vocab_reuters, n_max=10, topics=None)"
      ],
      "execution_count": 62,
      "outputs": [
        {
          "output_type": "stream",
          "text": [
            "-------------- \n",
            " classical VB \n",
            "-------------- \n",
            "=== Topic 1 ===\n",
            "rituals, harris, hot, minor, banned, parades, closely, fiestas, portman, goat\n",
            "=== Topic 2 ===\n",
            "bulletin, pilgrims, abdominal, quickly, neurological, surgeon, trembling, africa, poles, gemelli\n",
            "=== Topic 3 ===\n",
            "year, world, told, first, last, mother, people, years, pope, church\n",
            "=== Topic 4 ===\n",
            "gustaf, board, swedish, farrakhan, sweden, saw, east, chernomyrdin, bertil, beach\n",
            "=== Topic 5 ===\n",
            "spanish, deny, telling, channel, barcelona, sofia, belgian, elder, atlanta, cristina\n",
            "=== Topic 6 ===\n",
            "scotland, board, erupted, roderick, flow, concrete, sean, dancing, lahar, whibley\n",
            "=== Topic 7 ===\n",
            "leading, cathedral, october, birthday, east, court, took, private, statement, group\n",
            "=== Topic 8 ===\n",
            "around, paris, left, royal, prince, n't, made, against, since, u.s\n",
            "=== Topic 9 ===\n",
            "shed, direction, alzheimer, nancy, wehrmacht, jamaica, mirecki, royals, csu, credit\n",
            "=== Topic 10 ===\n",
            "full-page, massachusetts, dior, kerry, cerpa, tsongas, liver, leigh, bormann, cioaba\n"
          ],
          "name": "stdout"
        }
      ]
    },
    {
      "cell_type": "code",
      "metadata": {
        "colab": {
          "base_uri": "https://localhost:8080/"
        },
        "id": "lZtPV16kARMl",
        "outputId": "0d0a13df-c83b-41e8-dcac-930d38f11e5c"
      },
      "source": [
        "print(\"-------------- \\n Collapsed VB \\n-------------- \")\n",
        "best_words_per_topic(lambda_cl_rt, vocab_reuters, n_max=10, topics=None)"
      ],
      "execution_count": 64,
      "outputs": [
        {
          "output_type": "stream",
          "text": [
            "-------------- \n",
            " Collapsed VB \n",
            "-------------- \n",
            "=== Topic 1 ===\n",
            "10th, turks, ottoman, armenians, slavs, theodoridis, athos, venizelos, byzantine, salonika\n",
            "=== Topic 2 ===\n",
            "daly, pocahontas, redwood, stewart, colston, estrada, cornwell, hwang, cavallo, brennan\n",
            "=== Topic 3 ===\n",
            "year, world, told, first, last, mother, people, years, pope, church\n",
            "=== Topic 4 ===\n",
            "daly, pocahontas, redwood, stewart, colston, estrada, cornwell, hwang, cavallo, brennan\n",
            "=== Topic 5 ===\n",
            "2.3, second-largest, inoperable, pilla, chemotherapy, pancreatic, liver, chicago, archdiocese, bernardin\n",
            "=== Topic 6 ===\n",
            "crucitti, doctors, appendix, russia, kremlin, russian, surgery, operation, pope, yeltsin\n",
            "=== Topic 7 ===\n",
            "scholars, geller, pelvis, memphis, graceland, chadwick, bethlehem, fans, presley, elvis\n",
            "=== Topic 8 ===\n",
            "hao, thich, thien, buddhism, hanoi, monks, temple, dent, vietnam, buddhist\n",
            "=== Topic 9 ===\n",
            "daly, pocahontas, redwood, stewart, colston, estrada, cornwell, hwang, cavallo, brennan\n",
            "=== Topic 10 ===\n",
            "daly, pocahontas, redwood, stewart, colston, estrada, cornwell, hwang, cavallo, brennan\n"
          ],
          "name": "stdout"
        }
      ]
    }
  ]
}